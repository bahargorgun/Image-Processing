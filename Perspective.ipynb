{
  "nbformat": 4,
  "nbformat_minor": 0,
  "metadata": {
    "colab": {
      "provenance": []
    },
    "kernelspec": {
      "name": "python3",
      "display_name": "Python 3"
    },
    "language_info": {
      "name": "python"
    }
  },
  "cells": [
    {
      "cell_type": "code",
      "execution_count": 67,
      "metadata": {
        "id": "jTfGR8QJ3RT4"
      },
      "outputs": [],
      "source": [
        "import numpy as np\n",
        "import pandas as pd\n",
        "import cv2 as cv \n",
        "from google.colab.patches import cv2_imshow # for image display\n",
        "from skimage import io\n",
        "from PIL import Image \n",
        "import matplotlib.pylab as plt"
      ]
    },
    {
      "cell_type": "code",
      "source": [
        "\n",
        "url =  \"https://i1.wp.com/zermilaninsandali.com/wp-content/uploads/2021/01/maca5.png?resize=215%2C300&ssl=1\"\n",
        "\n",
        "# Read and display the image\n",
        "\n",
        "image = io.imread(url) \n",
        "image_2 = cv.cvtColor(image, cv.COLOR_BGR2RGB)\n",
        "\n",
        "scale_percent = 60 # percent of original size\n",
        "width = int(image.shape[1] * scale_percent / 100)\n",
        "height = int(image.shape[0] * scale_percent / 100)\n",
        "dim = (width, height)\n",
        "  \n",
        "# resize image\n",
        "resized = cv.resize(image, dim, interpolation = cv.INTER_AREA)\n",
        "resized2 = cv.resize(image_2, dim, interpolation = cv.INTER_AREA)\n",
        "\n",
        " \n",
        "print('Resized Dimensions : ',resized.shape)\n",
        "cv2_imshow(resized) \n"
      ],
      "metadata": {
        "colab": {
          "base_uri": "https://localhost:8080/",
          "height": 215
        },
        "id": "KH8stAp946c0",
        "outputId": "38cda8b1-9db8-4f9f-87f6-f03cc554bae8"
      },
      "execution_count": 73,
      "outputs": [
        {
          "output_type": "stream",
          "name": "stdout",
          "text": [
            "Resized Dimensions :  (180, 129, 4)\n"
          ]
        },
        {
          "output_type": "display_data",
          "data": {
            "text/plain": [
              "<PIL.Image.Image image mode=RGBA size=129x180 at 0x7F3E477E5D90>"
            ],
            "image/png": "[encoded data removed]"
          },
          "metadata": {}
        }
      ]
    },
    {
      "cell_type": "code",
      "source": [
        "#kartın ortasından olacak şekilde perspektifini bozdum\n",
        "new_width = 400\n",
        "new_height = 400\n",
        "\n",
        "pts1 = np.float32([[80,0],[166,0],[0,238],[171,238]])\n",
        "pts2 = np.float32([[0,0],[0,height],[width,0],[width,height]])\n",
        "\n",
        "matrices = cv.getPerspectiveTransform(pts1,pts2)\n",
        "print(matrices)\n"
      ],
      "metadata": {
        "colab": {
          "base_uri": "https://localhost:8080/"
        },
        "id": "ZmWYvLb5BAcV",
        "outputId": "53235a7b-d1d9-486c-a922-ae3ae975a268"
      },
      "execution_count": 88,
      "outputs": [
        {
          "output_type": "stream",
          "name": "stdout",
          "text": [
            "[[ 1.66208827e-16  1.07773109e+00 -2.11327252e-14]\n",
            " [ 2.09302326e+00  7.03537229e-01 -1.67441860e+02]\n",
            " [ 9.86864911e-19  4.15282392e-03  1.00000000e+00]]\n"
          ]
        }
      ]
    },
    {
      "cell_type": "code",
      "source": [
        "img_output = cv.warpPerspective(resized,matrices,(width,height))\n",
        "cv2_imshow(img_output)"
      ],
      "metadata": {
        "colab": {
          "base_uri": "https://localhost:8080/",
          "height": 197
        },
        "id": "y7NWnzK13mre",
        "outputId": "e1dfc6c2-4ca2-4588-d4a2-b998c03ca627"
      },
      "execution_count": 89,
      "outputs": [
        {
          "output_type": "display_data",
          "data": {
            "text/plain": [
              "<PIL.Image.Image image mode=RGBA size=129x180 at 0x7F3E494E6D30>"
            ],
            "image/png": "[encoded data removed]"
          },
          "metadata": {}
        }
      ]
    }
  ]
}